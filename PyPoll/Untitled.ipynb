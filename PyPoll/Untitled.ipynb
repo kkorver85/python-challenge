{
 "cells": [
  {
   "cell_type": "code",
   "execution_count": 22,
   "metadata": {},
   "outputs": [
    {
     "name": "stdout",
     "output_type": "stream",
     "text": [
      "\n",
      "Election Results\n",
      "--------------------\n",
      "Total Votes: 3521001\n",
      "--------------------\n",
      "Khan: 63.00% (2218231)\n",
      "Correy: 20.00% (704200)\n",
      "Li: 14.00% (492940)\n",
      "O'Tooley: 3.00% (105630)\n",
      "--------------------\n",
      "Winner: Khan\n",
      "--------------------\n",
      "\n"
     ]
    }
   ],
   "source": [
    "import os\n",
    "import csv\n",
    "\n",
    "csvpath_load = os.path.join('.','election_data.csv')\n",
    "file_to_output = os.path.join(\"election_analysis.txt\")\n",
    "\n",
    "with open(csvpath_load, newline='') as csvfile:\n",
    "\n",
    "    # CSV reader specifies delimiter and variable that holds contents\n",
    "    csvreader = csv.reader(csvfile, delimiter=',')\n",
    "\n",
    "    # Read the header row first (skip this step if there is now header)\n",
    "    csv_header = next(csvreader)\n",
    "\n",
    "    total_votes_cast = 0\n",
    "    \n",
    "    # Dict to store candidate_name -> num of votes\n",
    "    d = {}\n",
    "    \n",
    "    for row in csvreader: \n",
    "        total_votes_cast = total_votes_cast + 1\n",
    "        candidate_name = row[2]\n",
    "        if candidate_name in d:\n",
    "            d[candidate_name] = d[candidate_name] + 1\n",
    "        else:\n",
    "            d[candidate_name] = 1\n",
    "        \n",
    "        \n",
    "    #print(total_votes_cast)\n",
    "    #print(d)\n",
    "    \n",
    "    winner_count = 0\n",
    "    winner_name = \"\"\n",
    "    results_string = \"\"\n",
    "    \n",
    "    # Khan: 63.000% (2218231)\n",
    "    # Loop through Dict\n",
    "    for k in d:\n",
    "#         print(k, (d[k]/total_votes_cast)*100)\n",
    "        voter_percent = (d[k]/total_votes_cast)*100\n",
    "        results_string = results_string + k + \": \" + \"{:.2f}\".format(voter_percent) + \"% (\" + str(d[k]) + \")\\n\"\n",
    "        if d[k] >= winner_count:\n",
    "            winner_count = d[k]\n",
    "            winner_name = k\n",
    "            \n",
    "    #print (winner_count)\n",
    "    #print (winner_name)\n",
    "    \n",
    "    output = (\n",
    "    f\"\\nElection Results\\n\"\n",
    "    f\"--------------------\\n\"\n",
    "    f\"Total Votes: {total_votes_cast}\\n\"\n",
    "    f\"--------------------\\n\"\n",
    "    f\"{results_string}\"\n",
    "    f\"--------------------\\n\"\n",
    "    f\"Winner: {winner_name}\\n\"\n",
    "    f\"--------------------\\n\"\n",
    "    )\n",
    "    \n",
    "    print(output)\n",
    "    \n",
    "    with open(file_to_output, \"w\") as txt_file:\n",
    "        txt_file.write(output)\n",
    "        \n",
    "    \n",
    "    "
   ]
  },
  {
   "cell_type": "code",
   "execution_count": null,
   "metadata": {},
   "outputs": [],
   "source": []
  },
  {
   "cell_type": "code",
   "execution_count": null,
   "metadata": {},
   "outputs": [],
   "source": []
  }
 ],
 "metadata": {
  "kernelspec": {
   "display_name": "Python 3",
   "language": "python",
   "name": "python3"
  },
  "language_info": {
   "codemirror_mode": {
    "name": "ipython",
    "version": 3
   },
   "file_extension": ".py",
   "mimetype": "text/x-python",
   "name": "python",
   "nbconvert_exporter": "python",
   "pygments_lexer": "ipython3",
   "version": "3.7.4"
  }
 },
 "nbformat": 4,
 "nbformat_minor": 2
}
